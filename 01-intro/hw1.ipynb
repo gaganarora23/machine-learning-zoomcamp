{
 "cells": [
  {
   "cell_type": "code",
   "execution_count": 1,
   "id": "7250523b-3ddc-4116-b9a1-339435adab2f",
   "metadata": {},
   "outputs": [],
   "source": [
    "import pandas as pd"
   ]
  },
  {
   "cell_type": "code",
   "execution_count": 2,
   "id": "b90e66f0-3174-4923-8981-2f096694038e",
   "metadata": {},
   "outputs": [
    {
     "name": "stdout",
     "output_type": "stream",
     "text": [
      "2.3.1\n"
     ]
    }
   ],
   "source": [
    "print(pd.__version__)"
   ]
  },
  {
   "cell_type": "code",
   "execution_count": 3,
   "id": "bc1699b6-16b8-4053-bf56-3fba7fd47577",
   "metadata": {},
   "outputs": [],
   "source": [
    "df = pd.read_csv('https://raw.githubusercontent.com/alexeygrigorev/datasets/master/car_fuel_efficiency.csv')"
   ]
  },
  {
   "cell_type": "code",
   "execution_count": 4,
   "id": "22ed5a16-cab4-459f-8125-1984dcbe715b",
   "metadata": {},
   "outputs": [
    {
     "data": {
      "text/html": [
       "<div>\n",
       "<style scoped>\n",
       "    .dataframe tbody tr th:only-of-type {\n",
       "        vertical-align: middle;\n",
       "    }\n",
       "\n",
       "    .dataframe tbody tr th {\n",
       "        vertical-align: top;\n",
       "    }\n",
       "\n",
       "    .dataframe thead th {\n",
       "        text-align: right;\n",
       "    }\n",
       "</style>\n",
       "<table border=\"1\" class=\"dataframe\">\n",
       "  <thead>\n",
       "    <tr style=\"text-align: right;\">\n",
       "      <th></th>\n",
       "      <th>engine_displacement</th>\n",
       "      <th>num_cylinders</th>\n",
       "      <th>horsepower</th>\n",
       "      <th>vehicle_weight</th>\n",
       "      <th>acceleration</th>\n",
       "      <th>model_year</th>\n",
       "      <th>origin</th>\n",
       "      <th>fuel_type</th>\n",
       "      <th>drivetrain</th>\n",
       "      <th>num_doors</th>\n",
       "      <th>fuel_efficiency_mpg</th>\n",
       "    </tr>\n",
       "  </thead>\n",
       "  <tbody>\n",
       "    <tr>\n",
       "      <th>0</th>\n",
       "      <td>170</td>\n",
       "      <td>3.0</td>\n",
       "      <td>159.0</td>\n",
       "      <td>3413.433759</td>\n",
       "      <td>17.7</td>\n",
       "      <td>2003</td>\n",
       "      <td>Europe</td>\n",
       "      <td>Gasoline</td>\n",
       "      <td>All-wheel drive</td>\n",
       "      <td>0.0</td>\n",
       "      <td>13.231729</td>\n",
       "    </tr>\n",
       "    <tr>\n",
       "      <th>1</th>\n",
       "      <td>130</td>\n",
       "      <td>5.0</td>\n",
       "      <td>97.0</td>\n",
       "      <td>3149.664934</td>\n",
       "      <td>17.8</td>\n",
       "      <td>2007</td>\n",
       "      <td>USA</td>\n",
       "      <td>Gasoline</td>\n",
       "      <td>Front-wheel drive</td>\n",
       "      <td>0.0</td>\n",
       "      <td>13.688217</td>\n",
       "    </tr>\n",
       "    <tr>\n",
       "      <th>2</th>\n",
       "      <td>170</td>\n",
       "      <td>NaN</td>\n",
       "      <td>78.0</td>\n",
       "      <td>3079.038997</td>\n",
       "      <td>15.1</td>\n",
       "      <td>2018</td>\n",
       "      <td>Europe</td>\n",
       "      <td>Gasoline</td>\n",
       "      <td>Front-wheel drive</td>\n",
       "      <td>0.0</td>\n",
       "      <td>14.246341</td>\n",
       "    </tr>\n",
       "    <tr>\n",
       "      <th>3</th>\n",
       "      <td>220</td>\n",
       "      <td>4.0</td>\n",
       "      <td>NaN</td>\n",
       "      <td>2542.392402</td>\n",
       "      <td>20.2</td>\n",
       "      <td>2009</td>\n",
       "      <td>USA</td>\n",
       "      <td>Diesel</td>\n",
       "      <td>All-wheel drive</td>\n",
       "      <td>2.0</td>\n",
       "      <td>16.912736</td>\n",
       "    </tr>\n",
       "  </tbody>\n",
       "</table>\n",
       "</div>"
      ],
      "text/plain": [
       "   engine_displacement  num_cylinders  horsepower  vehicle_weight  \\\n",
       "0                  170            3.0       159.0     3413.433759   \n",
       "1                  130            5.0        97.0     3149.664934   \n",
       "2                  170            NaN        78.0     3079.038997   \n",
       "3                  220            4.0         NaN     2542.392402   \n",
       "\n",
       "   acceleration  model_year  origin fuel_type         drivetrain  num_doors  \\\n",
       "0          17.7        2003  Europe  Gasoline    All-wheel drive        0.0   \n",
       "1          17.8        2007     USA  Gasoline  Front-wheel drive        0.0   \n",
       "2          15.1        2018  Europe  Gasoline  Front-wheel drive        0.0   \n",
       "3          20.2        2009     USA    Diesel    All-wheel drive        2.0   \n",
       "\n",
       "   fuel_efficiency_mpg  \n",
       "0            13.231729  \n",
       "1            13.688217  \n",
       "2            14.246341  \n",
       "3            16.912736  "
      ]
     },
     "execution_count": 4,
     "metadata": {},
     "output_type": "execute_result"
    }
   ],
   "source": [
    "df.head(4)"
   ]
  },
  {
   "cell_type": "code",
   "execution_count": 5,
   "id": "6023fbce-d15c-4381-9f6c-fbe05713a96e",
   "metadata": {},
   "outputs": [
    {
     "name": "stdout",
     "output_type": "stream",
     "text": [
      "9704\n"
     ]
    }
   ],
   "source": [
    "print(len(df))"
   ]
  },
  {
   "cell_type": "code",
   "execution_count": 6,
   "id": "686e9c7e-5e03-4345-aef0-ff476b634a5e",
   "metadata": {},
   "outputs": [
    {
     "data": {
      "text/plain": [
       "array(['Gasoline', 'Diesel'], dtype=object)"
      ]
     },
     "execution_count": 6,
     "metadata": {},
     "output_type": "execute_result"
    }
   ],
   "source": [
    "unique_fueltypes = df['fuel_type']\n",
    "unique_fueltypes.unique()"
   ]
  },
  {
   "cell_type": "code",
   "execution_count": 7,
   "id": "a0a1fe05-6bcf-425e-8a10-52d887c7b1b8",
   "metadata": {},
   "outputs": [
    {
     "name": "stdout",
     "output_type": "stream",
     "text": [
      "{'Diesel', 'Gasoline'}\n"
     ]
    }
   ],
   "source": [
    "uf2 = set(df['fuel_type'])\n",
    "print(uf2)"
   ]
  },
  {
   "cell_type": "code",
   "execution_count": 8,
   "id": "636bb9a1-63ee-48e4-ba54-bd1e4906732b",
   "metadata": {},
   "outputs": [
    {
     "data": {
      "text/plain": [
       "Index(['engine_displacement', 'num_cylinders', 'horsepower', 'vehicle_weight',\n",
       "       'acceleration', 'model_year', 'origin', 'fuel_type', 'drivetrain',\n",
       "       'num_doors', 'fuel_efficiency_mpg'],\n",
       "      dtype='object')"
      ]
     },
     "execution_count": 8,
     "metadata": {},
     "output_type": "execute_result"
    }
   ],
   "source": [
    "# columns in df \n",
    "df.columns"
   ]
  },
  {
   "cell_type": "code",
   "execution_count": 9,
   "id": "623aed95-b9d1-47a7-b4ab-762b4a22f8ce",
   "metadata": {},
   "outputs": [
    {
     "name": "stdout",
     "output_type": "stream",
     "text": [
      "Boolean Series of columns with missing values:\n",
      " engine_displacement    False\n",
      "num_cylinders           True\n",
      "horsepower              True\n",
      "vehicle_weight         False\n",
      "acceleration            True\n",
      "model_year             False\n",
      "origin                 False\n",
      "fuel_type              False\n",
      "drivetrain             False\n",
      "num_doors               True\n",
      "fuel_efficiency_mpg    False\n",
      "dtype: bool\n",
      "\n",
      "Names of columns with missing values: ['num_cylinders', 'horsepower', 'acceleration', 'num_doors']\n"
     ]
    }
   ],
   "source": [
    "# Identify columns with any missing values\n",
    "columns_with_missing_values = df.isnull().any()\n",
    "print(\"Boolean Series of columns with missing values:\\n\", columns_with_missing_values)\n",
    "\n",
    "# Get the names of columns with missing values\n",
    "missing_column_names = df.columns[df.isnull().any()].tolist()\n",
    "print(\"\\nNames of columns with missing values:\", missing_column_names)"
   ]
  },
  {
   "cell_type": "code",
   "execution_count": 10,
   "id": "1b7f5f6e-575e-4cea-97a5-cbe8a6dd390c",
   "metadata": {},
   "outputs": [
    {
     "data": {
      "text/plain": [
       "np.float64(23.759122836520497)"
      ]
     },
     "execution_count": 10,
     "metadata": {},
     "output_type": "execute_result"
    }
   ],
   "source": [
    "# What's the maximum fuel efficiency of cars from Asia?\n",
    "filtered_df_city = df[df['origin'] == 'Asia']\n",
    "max_value = filtered_df_city['fuel_efficiency_mpg'].max()\n",
    "max_value"
   ]
  },
  {
   "cell_type": "code",
   "execution_count": 17,
   "id": "0eceb6ab-8ea4-4ef1-8244-346565f3651c",
   "metadata": {},
   "outputs": [
    {
     "data": {
      "text/plain": [
       "array([159.,  97.,  78., ..., 138., 177., 140.], shape=(9704,))"
      ]
     },
     "execution_count": 17,
     "metadata": {},
     "output_type": "execute_result"
    }
   ],
   "source": [
    "#Q6 \n",
    "# Find the median value of horsepower column in the dataset.\n",
    "# Next, calculate the most frequent value of the same horsepower column.\n",
    "# Use fillna method to fill the missing values in horsepower column with the most frequent value from the previous step.\n",
    "# Now, calculate the median value of horsepower once again.\n",
    "\n",
    "#df['horsepower'].tolist()\n",
    "\n",
    "df['horsepower'].to_numpy()"
   ]
  },
  {
   "cell_type": "code",
   "execution_count": 27,
   "id": "e4ef1806-0f09-479c-a0ca-c646ed83eaa7",
   "metadata": {},
   "outputs": [
    {
     "data": {
      "text/plain": [
       "np.float64(149.0)"
      ]
     },
     "execution_count": 27,
     "metadata": {},
     "output_type": "execute_result"
    }
   ],
   "source": [
    "df['horsepower'].median() #149.0"
   ]
  },
  {
   "cell_type": "code",
   "execution_count": 39,
   "id": "d15cb62f-9134-47d5-8745-e6f3d6d950c8",
   "metadata": {},
   "outputs": [
    {
     "name": "stdout",
     "output_type": "stream",
     "text": [
      "horsepower\n",
      "152.0    142\n",
      "145.0    141\n",
      "151.0    134\n",
      "148.0    130\n",
      "141.0    130\n",
      "143.0    128\n",
      "159.0    126\n",
      "149.0    124\n",
      "136.0    123\n",
      "139.0    123\n",
      "164.0    122\n",
      "144.0    120\n",
      "138.0    120\n",
      "156.0    119\n",
      "133.0    116\n",
      "Name: count, dtype: int64\n"
     ]
    }
   ],
   "source": [
    "category_frequencies = df['horsepower'].value_counts()\n",
    "print(category_frequencies.head(15))\n",
    "# 152.0    142"
   ]
  },
  {
   "cell_type": "code",
   "execution_count": 57,
   "id": "5341fd70-ab62-4450-bc2d-236a0c9a733b",
   "metadata": {},
   "outputs": [
    {
     "name": "stdout",
     "output_type": "stream",
     "text": [
      "0       159.0\n",
      "1        97.0\n",
      "2        78.0\n",
      "3       152.0\n",
      "4       140.0\n",
      "        ...  \n",
      "9699    164.0\n",
      "9700    154.0\n",
      "9701    138.0\n",
      "9702    177.0\n",
      "9703    140.0\n",
      "Name: horsepower, Length: 9704, dtype: float64\n"
     ]
    }
   ],
   "source": [
    "# fillna\n",
    "# Replaces all NaN in column horsepower with 152.0\n",
    "df_filled = df['horsepower'].fillna(152.0)\n",
    "print(df_filled)"
   ]
  },
  {
   "cell_type": "code",
   "execution_count": 58,
   "id": "5689204e-bd3e-4a89-85b0-d1a596049c71",
   "metadata": {},
   "outputs": [
    {
     "data": {
      "text/plain": [
       "0    159.0\n",
       "1     97.0\n",
       "2     78.0\n",
       "3    152.0\n",
       "Name: horsepower, dtype: float64"
      ]
     },
     "execution_count": 58,
     "metadata": {},
     "output_type": "execute_result"
    }
   ],
   "source": [
    "df_filled.head(4)"
   ]
  },
  {
   "cell_type": "code",
   "execution_count": 60,
   "id": "8a2e2597-1edf-42f8-a69f-aa3288f08781",
   "metadata": {},
   "outputs": [
    {
     "data": {
      "text/plain": [
       "np.float64(152.0)"
      ]
     },
     "execution_count": 60,
     "metadata": {},
     "output_type": "execute_result"
    }
   ],
   "source": [
    "df_filled.median()"
   ]
  },
  {
   "cell_type": "code",
   "execution_count": null,
   "id": "8a4cdc23-a8ee-4362-88ec-f99ab1d86383",
   "metadata": {},
   "outputs": [],
   "source": []
  }
 ],
 "metadata": {
  "kernelspec": {
   "display_name": "Python 3 (ipykernel)",
   "language": "python",
   "name": "python3"
  },
  "language_info": {
   "codemirror_mode": {
    "name": "ipython",
    "version": 3
   },
   "file_extension": ".py",
   "mimetype": "text/x-python",
   "name": "python",
   "nbconvert_exporter": "python",
   "pygments_lexer": "ipython3",
   "version": "3.12.1"
  }
 },
 "nbformat": 4,
 "nbformat_minor": 5
}
