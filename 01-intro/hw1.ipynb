{
 "cells": [
  {
   "cell_type": "code",
   "execution_count": 1,
   "id": "7250523b-3ddc-4116-b9a1-339435adab2f",
   "metadata": {},
   "outputs": [],
   "source": [
    "import pandas as pd"
   ]
  },
  {
   "cell_type": "code",
   "execution_count": 2,
   "id": "b90e66f0-3174-4923-8981-2f096694038e",
   "metadata": {},
   "outputs": [
    {
     "name": "stdout",
     "output_type": "stream",
     "text": [
      "2.3.1\n"
     ]
    }
   ],
   "source": [
    "print(pd.__version__)"
   ]
  },
  {
   "cell_type": "code",
   "execution_count": 5,
   "id": "bc1699b6-16b8-4053-bf56-3fba7fd47577",
   "metadata": {},
   "outputs": [],
   "source": [
    "df = pd.read_csv('https://raw.githubusercontent.com/alexeygrigorev/datasets/master/car_fuel_efficiency.csv')"
   ]
  },
  {
   "cell_type": "code",
   "execution_count": null,
   "id": "22ed5a16-cab4-459f-8125-1984dcbe715b",
   "metadata": {},
   "outputs": [
    {
     "data": {
      "text/html": [
       "<div>\n",
       "<style scoped>\n",
       "    .dataframe tbody tr th:only-of-type {\n",
       "        vertical-align: middle;\n",
       "    }\n",
       "\n",
       "    .dataframe tbody tr th {\n",
       "        vertical-align: top;\n",
       "    }\n",
       "\n",
       "    .dataframe thead th {\n",
       "        text-align: right;\n",
       "    }\n",
       "</style>\n",
       "<table border=\"1\" class=\"dataframe\">\n",
       "  <thead>\n",
       "    <tr style=\"text-align: right;\">\n",
       "      <th></th>\n",
       "      <th>engine_displacement</th>\n",
       "      <th>num_cylinders</th>\n",
       "      <th>horsepower</th>\n",
       "      <th>vehicle_weight</th>\n",
       "      <th>acceleration</th>\n",
       "      <th>model_year</th>\n",
       "      <th>origin</th>\n",
       "      <th>fuel_type</th>\n",
       "      <th>drivetrain</th>\n",
       "      <th>num_doors</th>\n",
       "      <th>fuel_efficiency_mpg</th>\n",
       "    </tr>\n",
       "  </thead>\n",
       "  <tbody>\n",
       "    <tr>\n",
       "      <th>0</th>\n",
       "      <td>170</td>\n",
       "      <td>3.0</td>\n",
       "      <td>159.0</td>\n",
       "      <td>3413.433759</td>\n",
       "      <td>17.7</td>\n",
       "      <td>2003</td>\n",
       "      <td>Europe</td>\n",
       "      <td>Gasoline</td>\n",
       "      <td>All-wheel drive</td>\n",
       "      <td>0.0</td>\n",
       "      <td>13.231729</td>\n",
       "    </tr>\n",
       "    <tr>\n",
       "      <th>1</th>\n",
       "      <td>130</td>\n",
       "      <td>5.0</td>\n",
       "      <td>97.0</td>\n",
       "      <td>3149.664934</td>\n",
       "      <td>17.8</td>\n",
       "      <td>2007</td>\n",
       "      <td>USA</td>\n",
       "      <td>Gasoline</td>\n",
       "      <td>Front-wheel drive</td>\n",
       "      <td>0.0</td>\n",
       "      <td>13.688217</td>\n",
       "    </tr>\n",
       "    <tr>\n",
       "      <th>2</th>\n",
       "      <td>170</td>\n",
       "      <td>NaN</td>\n",
       "      <td>78.0</td>\n",
       "      <td>3079.038997</td>\n",
       "      <td>15.1</td>\n",
       "      <td>2018</td>\n",
       "      <td>Europe</td>\n",
       "      <td>Gasoline</td>\n",
       "      <td>Front-wheel drive</td>\n",
       "      <td>0.0</td>\n",
       "      <td>14.246341</td>\n",
       "    </tr>\n",
       "    <tr>\n",
       "      <th>3</th>\n",
       "      <td>220</td>\n",
       "      <td>4.0</td>\n",
       "      <td>NaN</td>\n",
       "      <td>2542.392402</td>\n",
       "      <td>20.2</td>\n",
       "      <td>2009</td>\n",
       "      <td>USA</td>\n",
       "      <td>Diesel</td>\n",
       "      <td>All-wheel drive</td>\n",
       "      <td>2.0</td>\n",
       "      <td>16.912736</td>\n",
       "    </tr>\n",
       "    <tr>\n",
       "      <th>4</th>\n",
       "      <td>210</td>\n",
       "      <td>1.0</td>\n",
       "      <td>140.0</td>\n",
       "      <td>3460.870990</td>\n",
       "      <td>14.4</td>\n",
       "      <td>2009</td>\n",
       "      <td>Europe</td>\n",
       "      <td>Gasoline</td>\n",
       "      <td>All-wheel drive</td>\n",
       "      <td>2.0</td>\n",
       "      <td>12.488369</td>\n",
       "    </tr>\n",
       "  </tbody>\n",
       "</table>\n",
       "</div>"
      ],
      "text/plain": [
       "   engine_displacement  num_cylinders  horsepower  vehicle_weight  \\\n",
       "0                  170            3.0       159.0     3413.433759   \n",
       "1                  130            5.0        97.0     3149.664934   \n",
       "2                  170            NaN        78.0     3079.038997   \n",
       "3                  220            4.0         NaN     2542.392402   \n",
       "4                  210            1.0       140.0     3460.870990   \n",
       "\n",
       "   acceleration  model_year  origin fuel_type         drivetrain  num_doors  \\\n",
       "0          17.7        2003  Europe  Gasoline    All-wheel drive        0.0   \n",
       "1          17.8        2007     USA  Gasoline  Front-wheel drive        0.0   \n",
       "2          15.1        2018  Europe  Gasoline  Front-wheel drive        0.0   \n",
       "3          20.2        2009     USA    Diesel    All-wheel drive        2.0   \n",
       "4          14.4        2009  Europe  Gasoline    All-wheel drive        2.0   \n",
       "\n",
       "   fuel_efficiency_mpg  \n",
       "0            13.231729  \n",
       "1            13.688217  \n",
       "2            14.246341  \n",
       "3            16.912736  \n",
       "4            12.488369  "
      ]
     },
     "execution_count": 8,
     "metadata": {},
     "output_type": "execute_result"
    }
   ],
   "source": [
    "df.head(4)"
   ]
  },
  {
   "cell_type": "code",
   "execution_count": 5,
   "id": "6023fbce-d15c-4381-9f6c-fbe05713a96e",
   "metadata": {},
   "outputs": [
    {
     "name": "stdout",
     "output_type": "stream",
     "text": [
      "9704\n"
     ]
    }
   ],
   "source": [
    "print(len(df))"
   ]
  },
  {
   "cell_type": "code",
   "execution_count": 6,
   "id": "686e9c7e-5e03-4345-aef0-ff476b634a5e",
   "metadata": {},
   "outputs": [
    {
     "data": {
      "text/plain": [
       "array(['Gasoline', 'Diesel'], dtype=object)"
      ]
     },
     "execution_count": 6,
     "metadata": {},
     "output_type": "execute_result"
    }
   ],
   "source": [
    "unique_fueltypes = df['fuel_type']\n",
    "unique_fueltypes.unique()"
   ]
  },
  {
   "cell_type": "code",
   "execution_count": 7,
   "id": "a0a1fe05-6bcf-425e-8a10-52d887c7b1b8",
   "metadata": {},
   "outputs": [
    {
     "name": "stdout",
     "output_type": "stream",
     "text": [
      "{'Diesel', 'Gasoline'}\n"
     ]
    }
   ],
   "source": [
    "uf2 = set(df['fuel_type'])\n",
    "print(uf2)"
   ]
  },
  {
   "cell_type": "code",
   "execution_count": 8,
   "id": "636bb9a1-63ee-48e4-ba54-bd1e4906732b",
   "metadata": {},
   "outputs": [
    {
     "data": {
      "text/plain": [
       "Index(['engine_displacement', 'num_cylinders', 'horsepower', 'vehicle_weight',\n",
       "       'acceleration', 'model_year', 'origin', 'fuel_type', 'drivetrain',\n",
       "       'num_doors', 'fuel_efficiency_mpg'],\n",
       "      dtype='object')"
      ]
     },
     "execution_count": 8,
     "metadata": {},
     "output_type": "execute_result"
    }
   ],
   "source": [
    "# columns in df \n",
    "df.columns"
   ]
  },
  {
   "cell_type": "code",
   "execution_count": 9,
   "id": "623aed95-b9d1-47a7-b4ab-762b4a22f8ce",
   "metadata": {},
   "outputs": [
    {
     "name": "stdout",
     "output_type": "stream",
     "text": [
      "Boolean Series of columns with missing values:\n",
      " engine_displacement    False\n",
      "num_cylinders           True\n",
      "horsepower              True\n",
      "vehicle_weight         False\n",
      "acceleration            True\n",
      "model_year             False\n",
      "origin                 False\n",
      "fuel_type              False\n",
      "drivetrain             False\n",
      "num_doors               True\n",
      "fuel_efficiency_mpg    False\n",
      "dtype: bool\n",
      "\n",
      "Names of columns with missing values: ['num_cylinders', 'horsepower', 'acceleration', 'num_doors']\n"
     ]
    }
   ],
   "source": [
    "# Identify columns with any missing values\n",
    "columns_with_missing_values = df.isnull().any()\n",
    "print(\"Boolean Series of columns with missing values:\\n\", columns_with_missing_values)\n",
    "\n",
    "# Get the names of columns with missing values\n",
    "missing_column_names = df.columns[df.isnull().any()].tolist()\n",
    "print(\"\\nNames of columns with missing values:\", missing_column_names)"
   ]
  },
  {
   "cell_type": "code",
   "execution_count": 10,
   "id": "1b7f5f6e-575e-4cea-97a5-cbe8a6dd390c",
   "metadata": {},
   "outputs": [
    {
     "data": {
      "text/plain": [
       "np.float64(23.759122836520497)"
      ]
     },
     "execution_count": 10,
     "metadata": {},
     "output_type": "execute_result"
    }
   ],
   "source": [
    "# What's the maximum fuel efficiency of cars from Asia?\n",
    "filtered_df_city = df[df['origin'] == 'Asia']\n",
    "max_value = filtered_df_city['fuel_efficiency_mpg'].max()\n",
    "max_value"
   ]
  },
  {
   "cell_type": "code",
   "execution_count": 11,
   "id": "0eceb6ab-8ea4-4ef1-8244-346565f3651c",
   "metadata": {},
   "outputs": [
    {
     "data": {
      "text/plain": [
       "array([159.,  97.,  78., ..., 138., 177., 140.], shape=(9704,))"
      ]
     },
     "execution_count": 11,
     "metadata": {},
     "output_type": "execute_result"
    }
   ],
   "source": [
    "#Q6 \n",
    "# Find the median value of horsepower column in the dataset.\n",
    "# Next, calculate the most frequent value of the same horsepower column.\n",
    "# Use fillna method to fill the missing values in horsepower column with the most frequent value from the previous step.\n",
    "# Now, calculate the median value of horsepower once again.\n",
    "\n",
    "#df['horsepower'].tolist()\n",
    "\n",
    "df['horsepower'].to_numpy()"
   ]
  },
  {
   "cell_type": "code",
   "execution_count": 12,
   "id": "e4ef1806-0f09-479c-a0ca-c646ed83eaa7",
   "metadata": {},
   "outputs": [
    {
     "data": {
      "text/plain": [
       "np.float64(149.0)"
      ]
     },
     "execution_count": 12,
     "metadata": {},
     "output_type": "execute_result"
    }
   ],
   "source": [
    "df['horsepower'].median() #149.0"
   ]
  },
  {
   "cell_type": "code",
   "execution_count": 13,
   "id": "d15cb62f-9134-47d5-8745-e6f3d6d950c8",
   "metadata": {},
   "outputs": [
    {
     "name": "stdout",
     "output_type": "stream",
     "text": [
      "horsepower\n",
      "152.0    142\n",
      "145.0    141\n",
      "151.0    134\n",
      "148.0    130\n",
      "141.0    130\n",
      "143.0    128\n",
      "159.0    126\n",
      "149.0    124\n",
      "136.0    123\n",
      "139.0    123\n",
      "164.0    122\n",
      "144.0    120\n",
      "138.0    120\n",
      "156.0    119\n",
      "133.0    116\n",
      "Name: count, dtype: int64\n"
     ]
    }
   ],
   "source": [
    "category_frequencies = df['horsepower'].value_counts()\n",
    "print(category_frequencies.head(15))\n",
    "# 152.0    142"
   ]
  },
  {
   "cell_type": "code",
   "execution_count": 14,
   "id": "5341fd70-ab62-4450-bc2d-236a0c9a733b",
   "metadata": {},
   "outputs": [
    {
     "name": "stdout",
     "output_type": "stream",
     "text": [
      "0       159.0\n",
      "1        97.0\n",
      "2        78.0\n",
      "3       152.0\n",
      "4       140.0\n",
      "        ...  \n",
      "9699    164.0\n",
      "9700    154.0\n",
      "9701    138.0\n",
      "9702    177.0\n",
      "9703    140.0\n",
      "Name: horsepower, Length: 9704, dtype: float64\n"
     ]
    }
   ],
   "source": [
    "# fillna\n",
    "# Replaces all NaN in column horsepower with 152.0\n",
    "df_filled = df['horsepower'].fillna(152.0)\n",
    "print(df_filled)"
   ]
  },
  {
   "cell_type": "code",
   "execution_count": 15,
   "id": "5689204e-bd3e-4a89-85b0-d1a596049c71",
   "metadata": {},
   "outputs": [
    {
     "data": {
      "text/plain": [
       "0    159.0\n",
       "1     97.0\n",
       "2     78.0\n",
       "3    152.0\n",
       "Name: horsepower, dtype: float64"
      ]
     },
     "execution_count": 15,
     "metadata": {},
     "output_type": "execute_result"
    }
   ],
   "source": [
    "df_filled.head(4)"
   ]
  },
  {
   "cell_type": "code",
   "execution_count": 16,
   "id": "8a2e2597-1edf-42f8-a69f-aa3288f08781",
   "metadata": {},
   "outputs": [
    {
     "data": {
      "text/plain": [
       "np.float64(152.0)"
      ]
     },
     "execution_count": 16,
     "metadata": {},
     "output_type": "execute_result"
    }
   ],
   "source": [
    "df_filled.median()"
   ]
  },
  {
   "cell_type": "code",
   "execution_count": 17,
   "id": "8a4cdc23-a8ee-4362-88ec-f99ab1d86383",
   "metadata": {},
   "outputs": [],
   "source": [
    "#Q7. Sum of weights\n",
    "\n",
    "#Compute matrix-matrix multiplication between the transpose of X and X. To get the transpose, use X.T. Let's call the result XTX.\n",
    "#Invert XTX.\n",
    "#Create an array y with values [1100, 1300, 800, 900, 1000, 1100, 1200].\n",
    "#Multiply the inverse of XTX with the transpose of X, and then multiply the result by y. Call the result w.\n",
    "#What's the sum of all the elements of the result?"
   ]
  },
  {
   "cell_type": "code",
   "execution_count": 18,
   "id": "cb87dea4-ed9e-4d81-a81b-c5f3f4bed041",
   "metadata": {},
   "outputs": [
    {
     "data": {
      "text/html": [
       "<div>\n",
       "<style scoped>\n",
       "    .dataframe tbody tr th:only-of-type {\n",
       "        vertical-align: middle;\n",
       "    }\n",
       "\n",
       "    .dataframe tbody tr th {\n",
       "        vertical-align: top;\n",
       "    }\n",
       "\n",
       "    .dataframe thead th {\n",
       "        text-align: right;\n",
       "    }\n",
       "</style>\n",
       "<table border=\"1\" class=\"dataframe\">\n",
       "  <thead>\n",
       "    <tr style=\"text-align: right;\">\n",
       "      <th></th>\n",
       "      <th>vehicle_weight</th>\n",
       "      <th>model_year</th>\n",
       "    </tr>\n",
       "  </thead>\n",
       "  <tbody>\n",
       "    <tr>\n",
       "      <th>8</th>\n",
       "      <td>2714.219310</td>\n",
       "      <td>2016</td>\n",
       "    </tr>\n",
       "    <tr>\n",
       "      <th>12</th>\n",
       "      <td>2783.868974</td>\n",
       "      <td>2010</td>\n",
       "    </tr>\n",
       "    <tr>\n",
       "      <th>14</th>\n",
       "      <td>3582.687368</td>\n",
       "      <td>2007</td>\n",
       "    </tr>\n",
       "    <tr>\n",
       "      <th>20</th>\n",
       "      <td>2231.808142</td>\n",
       "      <td>2011</td>\n",
       "    </tr>\n",
       "    <tr>\n",
       "      <th>21</th>\n",
       "      <td>2659.431451</td>\n",
       "      <td>2016</td>\n",
       "    </tr>\n",
       "    <tr>\n",
       "      <th>34</th>\n",
       "      <td>2844.227534</td>\n",
       "      <td>2014</td>\n",
       "    </tr>\n",
       "    <tr>\n",
       "      <th>38</th>\n",
       "      <td>3761.994038</td>\n",
       "      <td>2019</td>\n",
       "    </tr>\n",
       "  </tbody>\n",
       "</table>\n",
       "</div>"
      ],
      "text/plain": [
       "    vehicle_weight  model_year\n",
       "8      2714.219310        2016\n",
       "12     2783.868974        2010\n",
       "14     3582.687368        2007\n",
       "20     2231.808142        2011\n",
       "21     2659.431451        2016\n",
       "34     2844.227534        2014\n",
       "38     3761.994038        2019"
      ]
     },
     "execution_count": 18,
     "metadata": {},
     "output_type": "execute_result"
    }
   ],
   "source": [
    "# Select all the cars from Asia\n",
    "# Select only columns vehicle_weight and model_year\n",
    "# Select the first 7 values\n",
    "filtered_df_city = df[df['origin'] == 'Asia']\n",
    "filtered_df_city[['vehicle_weight', 'model_year']].head(7)"
   ]
  },
  {
   "cell_type": "code",
   "execution_count": 19,
   "id": "94f6f069-5049-4f6d-b568-fb3ffdd5d3de",
   "metadata": {},
   "outputs": [
    {
     "data": {
      "text/plain": [
       "array([[2714.21930965, 2016.        ],\n",
       "       [2783.86897424, 2010.        ],\n",
       "       [3582.68736772, 2007.        ],\n",
       "       [2231.8081416 , 2011.        ],\n",
       "       [2659.43145076, 2016.        ],\n",
       "       [2844.22753389, 2014.        ],\n",
       "       [3761.99403819, 2019.        ]])"
      ]
     },
     "execution_count": 19,
     "metadata": {},
     "output_type": "execute_result"
    }
   ],
   "source": [
    "#Get the underlying NumPy array. Let's call it X.\n",
    "import numpy as np\n",
    "X = filtered_df_city[['vehicle_weight', 'model_year']].head(7).to_numpy()\n",
    "X"
   ]
  },
  {
   "cell_type": "code",
   "execution_count": null,
   "id": "713f8c51-4fbe-460d-a32c-5e83eadcafc1",
   "metadata": {},
   "outputs": [],
   "source": []
  },
  {
   "cell_type": "code",
   "execution_count": 20,
   "id": "75339f68-9073-4a47-90a1-fa0f2ccc56e7",
   "metadata": {},
   "outputs": [
    {
     "data": {
      "text/plain": [
       "array([[2714.21930965, 2783.86897424, 3582.68736772, 2231.8081416 ,\n",
       "        2659.43145076, 2844.22753389, 3761.99403819],\n",
       "       [2016.        , 2010.        , 2007.        , 2011.        ,\n",
       "        2016.        , 2014.        , 2019.        ]])"
      ]
     },
     "execution_count": 20,
     "metadata": {},
     "output_type": "execute_result"
    }
   ],
   "source": [
    "#Compute matrix-matrix multiplication between the transpose of X and X. To get the transpose, use X.T. Let's call the result XTX.\n",
    "\n",
    "# Transpose of X\n",
    "XT = X.T\n",
    "XT"
   ]
  },
  {
   "cell_type": "code",
   "execution_count": null,
   "id": "5da9895f-2995-4467-99d9-cf4aeb0eb7b3",
   "metadata": {},
   "outputs": [],
   "source": []
  },
  {
   "cell_type": "code",
   "execution_count": null,
   "id": "e93b00ae-3529-4f33-9300-8722fbf46699",
   "metadata": {},
   "outputs": [],
   "source": []
  },
  {
   "cell_type": "code",
   "execution_count": 21,
   "id": "d3e198c3-4adb-433a-bbf6-edbf5578f5e1",
   "metadata": {},
   "outputs": [
    {
     "data": {
      "text/plain": [
       "array([[11431242.46085133, 11608190.92541486, 13770311.23387465,\n",
       "        10111792.75336224, 11282536.19632532, 11780081.29349753,\n",
       "        14281180.86123177],\n",
       "       [11608190.92541486, 11790026.46575708, 14007802.20739725,\n",
       "        10255171.44187306, 11455668.70489329, 11966096.78727446,\n",
       "        14531088.48421337],\n",
       "       [13770311.23387465, 14007802.20739725, 16863697.77478558,\n",
       "        12031947.83608462, 13574023.463935  , 14232076.05656009,\n",
       "        17530181.51805091],\n",
       "       [10111792.75336224, 10255171.44187306, 12031947.83608462,\n",
       "         9025088.58092514,  9989516.7638366 , 10397924.16669749,\n",
       "        12456257.9230991 ],\n",
       "       [11282536.19632532, 11455668.70489329, 13574023.463935  ,\n",
       "         9989516.7638366 , 11136831.64128077, 11624252.15672766,\n",
       "        14075069.26273247],\n",
       "       [11780081.29349753, 11966096.78727446, 14232076.05656009,\n",
       "        10397924.16669749, 11624252.15672766, 12145826.2645139 ,\n",
       "        14766233.02574041],\n",
       "       [14281180.86123177, 14531088.48421337, 17530181.51805091,\n",
       "        12456257.9230991 , 14075069.26273247, 14766233.02574041,\n",
       "        18228960.14339381]])"
      ]
     },
     "execution_count": 21,
     "metadata": {},
     "output_type": "execute_result"
    }
   ],
   "source": [
    "XTX = X.dot(X.T)\n",
    "XTX"
   ]
  },
  {
   "cell_type": "code",
   "execution_count": 22,
   "id": "423deebd-516c-482c-bbfd-6cbd41b47025",
   "metadata": {},
   "outputs": [
    {
     "data": {
      "text/plain": [
       "array([[62248334.33150762, 41431216.5073268 ],\n",
       "       [41431216.5073268 , 28373339.        ]])"
      ]
     },
     "execution_count": 22,
     "metadata": {},
     "output_type": "execute_result"
    }
   ],
   "source": [
    "XTX = np.matmul(X.T,X)\n",
    "XTX"
   ]
  },
  {
   "cell_type": "code",
   "execution_count": null,
   "id": "900db33a-6bde-49d9-baad-34c57f68926b",
   "metadata": {},
   "outputs": [],
   "source": []
  },
  {
   "cell_type": "code",
   "execution_count": null,
   "id": "ec063a32-41e1-4f57-846e-d471962548de",
   "metadata": {},
   "outputs": [],
   "source": []
  },
  {
   "cell_type": "code",
   "execution_count": 23,
   "id": "347bbb2d-d740-47c5-a911-3991593cd890",
   "metadata": {},
   "outputs": [
    {
     "data": {
      "text/plain": [
       "array([[ 5.71497081e-07, -8.34509443e-07],\n",
       "       [-8.34509443e-07,  1.25380877e-06]])"
      ]
     },
     "execution_count": 23,
     "metadata": {},
     "output_type": "execute_result"
    }
   ],
   "source": [
    "#Invert XTX\n",
    "inverse_xtx = np.linalg.inv(XTX)\n",
    "inverse_xtx"
   ]
  },
  {
   "cell_type": "code",
   "execution_count": 24,
   "id": "48828188-f307-414f-8ecf-6cc83049a48b",
   "metadata": {},
   "outputs": [
    {
     "data": {
      "text/plain": [
       "array([1100, 1300,  800,  900, 1000, 1100, 1200])"
      ]
     },
     "execution_count": 24,
     "metadata": {},
     "output_type": "execute_result"
    }
   ],
   "source": [
    "#Create an array y with values [1100, 1300, 800, 900, 1000, 1100, 1200].\n",
    "y = np.array([1100, 1300, 800, 900, 1000, 1100, 1200])\n",
    "y"
   ]
  },
  {
   "cell_type": "code",
   "execution_count": 25,
   "id": "13b60dfa-4116-4506-a8b2-213190099adb",
   "metadata": {},
   "outputs": [
    {
     "data": {
      "text/plain": [
       "array([0.01386421, 0.5049067 ])"
      ]
     },
     "execution_count": 25,
     "metadata": {},
     "output_type": "execute_result"
    }
   ],
   "source": [
    "#Multiply the inverse of XTX with the transpose of X, and then multiply the result by y. Call the result w.\n",
    "result = np.matmul(inverse_xtx, X.T)\n",
    "w = np.matmul(result, y)\n",
    "w"
   ]
  },
  {
   "cell_type": "code",
   "execution_count": 26,
   "id": "ace68ad6-555f-4297-a33a-22967f1b8cfd",
   "metadata": {},
   "outputs": [
    {
     "data": {
      "text/plain": [
       "np.float64(0.5187709081074016)"
      ]
     },
     "execution_count": 26,
     "metadata": {},
     "output_type": "execute_result"
    }
   ],
   "source": [
    "#What's the sum of all the elements of the result?\n",
    "w.sum()"
   ]
  },
  {
   "cell_type": "code",
   "execution_count": null,
   "id": "5e005c29-b8d6-43fe-b644-40b177e08fd4",
   "metadata": {},
   "outputs": [],
   "source": []
  }
 ],
 "metadata": {
  "kernelspec": {
   "display_name": "Python 3 (ipykernel)",
   "language": "python",
   "name": "python3"
  },
  "language_info": {
   "codemirror_mode": {
    "name": "ipython",
    "version": 3
   },
   "file_extension": ".py",
   "mimetype": "text/x-python",
   "name": "python",
   "nbconvert_exporter": "python",
   "pygments_lexer": "ipython3",
   "version": "3.12.1"
  }
 },
 "nbformat": 4,
 "nbformat_minor": 5
}
