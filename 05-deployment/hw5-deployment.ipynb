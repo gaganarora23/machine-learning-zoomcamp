{
 "cells": [
  {
   "cell_type": "code",
   "execution_count": 5,
   "id": "f6d242a6-3588-4ec4-9b86-1839c19b5951",
   "metadata": {},
   "outputs": [],
   "source": [
    "import pandas as pd\n",
    "import numpy as np\n",
    "import sklearn"
   ]
  },
  {
   "cell_type": "code",
   "execution_count": 6,
   "id": "755e5b45-cb74-44f7-8bdb-1593757542d7",
   "metadata": {},
   "outputs": [
    {
     "data": {
      "text/plain": [
       "'2.3.1'"
      ]
     },
     "execution_count": 6,
     "metadata": {},
     "output_type": "execute_result"
    }
   ],
   "source": [
    "pd.__version__"
   ]
  },
  {
   "cell_type": "code",
   "execution_count": null,
   "id": "01164788-24be-4c04-9823-2f36c0adc635",
   "metadata": {},
   "outputs": [],
   "source": [
    "# Q1  \n",
    "# Install UV and Check Version\n",
    "\n",
    "#Q2 \n",
    "# Use uv to install Scikit-Learn version 1.6.1\n",
    "# What's the first hash for Scikit-Learn you get in the lock file?\n",
    "# Include the entire string starting with sha256:, don't include quotes"
   ]
  }
 ],
 "metadata": {
  "kernelspec": {
   "display_name": "Python 3 (ipykernel)",
   "language": "python",
   "name": "python3"
  },
  "language_info": {
   "codemirror_mode": {
    "name": "ipython",
    "version": 3
   },
   "file_extension": ".py",
   "mimetype": "text/x-python",
   "name": "python",
   "nbconvert_exporter": "python",
   "pygments_lexer": "ipython3",
   "version": "3.12.1"
  }
 },
 "nbformat": 4,
 "nbformat_minor": 5
}
